{
 "cells": [
  {
   "cell_type": "markdown",
   "metadata": {},
   "source": [
    "# How to optimise number of trees in XGBoost"
   ]
  },
  {
   "cell_type": "code",
   "execution_count": 1,
   "metadata": {},
   "outputs": [
    {
     "name": "stdout",
     "output_type": "stream",
     "text": [
      "\n",
      "********************How to optimise number of trees in XGBoost********************\n"
     ]
    },
    {
     "name": "stderr",
     "output_type": "stream",
     "text": [
      "C:\\Users\\md sohaib uddin\\AppData\\Local\\Continuum\\anaconda3\\lib\\site-packages\\sklearn\\model_selection\\_search.py:813: DeprecationWarning: The default of the `iid` parameter will change from True to False in version 0.22 and will be removed in 0.24. This will change numeric results when test-set sizes are unequal.\n",
      "  DeprecationWarning)\n"
     ]
    },
    {
     "name": "stdout",
     "output_type": "stream",
     "text": [
      "\n",
      "Best: -0.106673 using {'n_estimators': 250}\n",
      "\n",
      "-0.135443 (0.116992) with: {'n_estimators': 50}\n",
      "-0.111016 (0.113984) with: {'n_estimators': 100}\n",
      "-0.107865 (0.112189) with: {'n_estimators': 150}\n",
      "-0.106716 (0.111809) with: {'n_estimators': 200}\n",
      "-0.106673 (0.111774) with: {'n_estimators': 250}\n",
      "-0.106679 (0.111768) with: {'n_estimators': 300}\n",
      "-0.106679 (0.111768) with: {'n_estimators': 350}\n"
     ]
    }
   ],
   "source": [
    "def optimisetree(): \n",
    "    print()\n",
    "    print(format('How to optimise number of trees in XGBoost','*^82'))    \n",
    "\n",
    "    import warnings\n",
    "    warnings.filterwarnings(\"ignore\")\n",
    "    \n",
    "    # load libraries\n",
    "    from sklearn import datasets\n",
    "    from sklearn.model_selection import train_test_split\n",
    "    from xgboost import XGBClassifier\n",
    "    from sklearn.model_selection import GridSearchCV\n",
    "    from sklearn.model_selection import StratifiedKFold\n",
    "    import matplotlib\n",
    "    matplotlib.use('Agg')\n",
    "    from matplotlib import pyplot\n",
    "    import matplotlib.pyplot as plt    \n",
    "    \n",
    "    plt.style.use('ggplot')    \n",
    "    \n",
    "    # load the iris datasets\n",
    "    dataset = datasets.load_wine()\n",
    "    X = dataset.data; y = dataset.target\n",
    "    X_train, X_test, y_train, y_test = train_test_split(X, y, test_size=0.25)\n",
    "\n",
    "    # grid search\n",
    "    model = XGBClassifier()\n",
    "    n_estimators = range(50, 400, 50)\n",
    "    param_grid = dict(n_estimators=n_estimators)\n",
    "    kfold = StratifiedKFold(n_splits=10, shuffle=True, random_state=7)\n",
    "    grid_search = GridSearchCV(model, param_grid, scoring=\"neg_log_loss\", n_jobs=-1, cv=kfold)\n",
    "    grid_result = grid_search.fit(X, y)\n",
    "    \n",
    "    # summarize results\n",
    "    print()\n",
    "    print(\"Best: %f using %s\" % (grid_result.best_score_, grid_result.best_params_))\n",
    "    means = grid_result.cv_results_['mean_test_score']\n",
    "    stds = grid_result.cv_results_['std_test_score']\n",
    "    params = grid_result.cv_results_['params']\n",
    "    print()\n",
    "    for mean, stdev, param in zip(means, stds, params):\n",
    "\t     print(\"%f (%f) with: %r\" % (mean, stdev, param))\n",
    "    \n",
    "    # plot\n",
    "    pyplot.errorbar(n_estimators, means, yerr=stds)\n",
    "    pyplot.title(\"XGBoost n_estimators vs Log Loss\")\n",
    "    pyplot.xlabel('n_estimators')\n",
    "    pyplot.ylabel('Log Loss')\n",
    "    pyplot.savefig('n_estimators.png')\n",
    "    \n",
    "optimisetree()"
   ]
  },
  {
   "cell_type": "code",
   "execution_count": null,
   "metadata": {},
   "outputs": [],
   "source": []
  }
 ],
 "metadata": {
  "kernelspec": {
   "display_name": "Python 3",
   "language": "python",
   "name": "python3"
  },
  "language_info": {
   "codemirror_mode": {
    "name": "ipython",
    "version": 3
   },
   "file_extension": ".py",
   "mimetype": "text/x-python",
   "name": "python",
   "nbconvert_exporter": "python",
   "pygments_lexer": "ipython3",
   "version": "3.7.3"
  }
 },
 "nbformat": 4,
 "nbformat_minor": 2
}
